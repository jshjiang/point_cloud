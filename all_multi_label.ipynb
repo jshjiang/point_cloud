{
 "cells": [
  {
   "cell_type": "code",
   "execution_count": 1,
   "id": "deb45ec1",
   "metadata": {},
   "outputs": [],
   "source": [
    "import os\n",
    "\n",
    "os.environ[\"CUDA_DEVICE_ORDER\"]=\"PCI_BUS_ID\"   # see issue #152\n",
    "os.environ[\"CUDA_VISIBLE_DEVICES\"]=\"5\""
   ]
  },
  {
   "cell_type": "code",
   "execution_count": 6,
   "id": "be3a7fbb",
   "metadata": {},
   "outputs": [],
   "source": [
    "from sklearn.model_selection import train_test_split\n",
    "from tqdm.notebook import tqdm\n",
    "from tensorflow.keras.utils import to_categorical\n",
    "\n",
    "import numpy as np\n",
    "import pickle\n",
    "from torch.utils.data import DataLoader, Dataset\n",
    "\n",
    "import sys \n",
    "# sys.path.append('..')\n",
    "# from models.GACNet.modules import GACNet, get_loss\n",
    "\n",
    "import torch\n",
    "import random"
   ]
  },
  {
   "cell_type": "code",
   "execution_count": 8,
   "id": "7871dcf3",
   "metadata": {},
   "outputs": [],
   "source": [
    "from tensorflow.keras import backend as K\n",
    "from collections import Counter\n",
    "def q3_acc(y_true, y_pred):\n",
    "    y = tf.argmax(y_true, axis=-1)\n",
    "    y_ = tf.argmax(y_pred, axis=-1)\n",
    "    mask = tf.greater(y, 0)\n",
    "    return K.cast(K.equal(tf.boolean_mask(y, mask), tf.boolean_mask(y_, mask)), K.floatx())\n",
    "\n",
    "from tensorflow.keras.preprocessing.text import Tokenizer\n",
    "from tensorflow.keras.utils import to_categorical\n",
    "\n",
    "from tensorflow.keras.preprocessing import sequence\n",
    "\n",
    "atom_dict_ = {'H': 0,\n",
    "         'C': 1,\n",
    "         'O': 2,\n",
    "         'N': 3,\n",
    "         'S': 4}"
   ]
  },
  {
   "cell_type": "code",
   "execution_count": 9,
   "id": "770ecb13",
   "metadata": {},
   "outputs": [],
   "source": [
    "with open('../../ms_final/ss/data/atom_ss_X.pkl', 'rb') as handle:\n",
    "    X = pickle.load(handle)\n",
    "with open('../../ms_final/ss/data/atom_ss_y.pkl', 'rb') as handle:\n",
    "    y = pickle.load(handle)"
   ]
  },
  {
   "cell_type": "code",
   "execution_count": 10,
   "id": "39ed89ce",
   "metadata": {},
   "outputs": [],
   "source": [
    "normalize = True\n",
    "for idx in range(len(X)):\n",
    "    cur_coord = []\n",
    "    cur_feat = []\n",
    "    \n",
    "    cur_x = X[idx]\n",
    "    for i in cur_x:\n",
    "        a = i[0]\n",
    "        b = i[1]\n",
    "        c = i[2]\n",
    "        cur_coord.append([a, b, c])\n",
    "        \n",
    "        atom = i[3]\n",
    "        zeros = [0 for _ in range(5)]\n",
    "        if atom in atom_dict_:\n",
    "            zeros[atom_dict_[atom]] = 1\n",
    "        cur_feat.append(zeros)\n",
    "        \n",
    "    xyz = np.asarray(cur_coord, dtype = np.float32)\n",
    "    norm = np.asarray(cur_feat, dtype = np.int32)\n",
    "        \n",
    "    centroid = np.mean(xyz, axis=0)\n",
    "    xyz -= centroid\n",
    "    if normalize:\n",
    "        m = np.max(np.sqrt(np.sum(xyz**2, axis=1)))\n",
    "        xyz = xyz / m\n",
    "    \n",
    "    points = np.concatenate([xyz, norm], 1)\n",
    "    X[idx] = points"
   ]
  },
  {
   "cell_type": "code",
   "execution_count": 11,
   "id": "31226bb1",
   "metadata": {},
   "outputs": [],
   "source": [
    "max_len = 4000"
   ]
  },
  {
   "cell_type": "code",
   "execution_count": 12,
   "id": "4d9f2215",
   "metadata": {},
   "outputs": [],
   "source": [
    "input_data = sequence.pad_sequences(X, maxlen=max_len, padding='post', dtype='float32', truncating='post')\n",
    "tokenizer_decoder = Tokenizer(char_level=True)\n",
    "tokenizer_decoder.fit_on_texts(y)\n",
    "target_data = tokenizer_decoder.texts_to_sequences(y)\n",
    "# target_data = sequence.pad_sequences(target_data, maxlen=max_len, padding='post', truncating='post')"
   ]
  },
  {
   "cell_type": "code",
   "execution_count": 13,
   "id": "1a5c1f5d",
   "metadata": {},
   "outputs": [],
   "source": [
    "target_data_ = sequence.pad_sequences(target_data, maxlen=max_len, padding='post', truncating='post')"
   ]
  },
  {
   "cell_type": "code",
   "execution_count": 14,
   "id": "242ca8ec",
   "metadata": {},
   "outputs": [],
   "source": [
    "y = []\n",
    "for i in target_data:\n",
    "    y.append(list(set(i)))"
   ]
  },
  {
   "cell_type": "code",
   "execution_count": 15,
   "id": "260ec0bc",
   "metadata": {},
   "outputs": [],
   "source": [
    "for i in range(len(y)):\n",
    "    zeros = 8*[0]\n",
    "    for j in y[i]:\n",
    "        zeros[j-1] = 1\n",
    "    y[i] = zeros"
   ]
  },
  {
   "cell_type": "code",
   "execution_count": 16,
   "id": "4a1cdd8c",
   "metadata": {},
   "outputs": [],
   "source": [
    "y = np.array(y)"
   ]
  },
  {
   "cell_type": "code",
   "execution_count": 17,
   "id": "149294a9",
   "metadata": {},
   "outputs": [
    {
     "data": {
      "text/plain": [
       "((10693, 4000, 8), (10693, 8))"
      ]
     },
     "execution_count": 17,
     "metadata": {},
     "output_type": "execute_result"
    }
   ],
   "source": [
    "X_train, X_test, y_train, y_test = train_test_split(input_data, y, test_size=.2, random_state=0)\n",
    "X_train.shape, y_train.shape"
   ]
  },
  {
   "cell_type": "code",
   "execution_count": 18,
   "id": "dd3e2eb9",
   "metadata": {},
   "outputs": [
    {
     "name": "stderr",
     "output_type": "stream",
     "text": [
      "/homes/songhao.jiang/anaconda3/envs/pc/lib/python3.8/site-packages/pointnet2_ops/pointnet2_utils.py:15: UserWarning: Unable to load pointnet2_ops cpp extension. JIT Compiling.\n",
      "  warnings.warn(\"Unable to load pointnet2_ops cpp extension. JIT Compiling.\")\n"
     ]
    }
   ],
   "source": [
    "from models.GACNet.modules_new import GACNet, get_loss"
   ]
  },
  {
   "cell_type": "code",
   "execution_count": 19,
   "id": "877e1afe",
   "metadata": {},
   "outputs": [],
   "source": [
    "class PC_dataset(Dataset):\n",
    "\n",
    "    def __init__(self, x, y):\n",
    "        self.x = x\n",
    "        self.y = y\n",
    "\n",
    "    def __len__(self):\n",
    "        return len(self.x)\n",
    "\n",
    "    def __getitem__(self, idx):\n",
    "        pc = self.x[idx]\n",
    "        label = self.y[idx]\n",
    "\n",
    "        return pc, label\n",
    "\n",
    "train_dataset = PC_dataset(X_train, y_train)\n",
    "test_dataset = PC_dataset(X_test, y_test)\n",
    "\n",
    "train_loader = DataLoader(train_dataset, batch_size=16, shuffle=True, drop_last=True)\n",
    "test_loader = DataLoader(test_dataset, batch_size=16, shuffle=False)"
   ]
  },
  {
   "cell_type": "code",
   "execution_count": 20,
   "id": "21b34e33",
   "metadata": {},
   "outputs": [],
   "source": [
    "NUM_CLASSES = 8\n",
    "\n",
    "classifier = GACNet(NUM_CLASSES).cuda()\n",
    "#criterion = get_loss()\n",
    "criterion = torch.nn.BCELoss().cuda()\n",
    "# criterion = get_loss().cuda()\n",
    "\n",
    "optimizer = torch.optim.Adam(\n",
    "    classifier.parameters(),\n",
    "    lr=0.001,\n",
    "    betas=(0.9, 0.999),\n",
    "    eps=1e-07,\n",
    "    weight_decay=0\n",
    ")\n",
    "\n",
    "def weights_init(m):\n",
    "    classname = m.__class__.__name__\n",
    "    if classname.find('Conv2d') != -1:\n",
    "        torch.nn.init.xavier_normal_(m.weight.data)\n",
    "        torch.nn.init.constant_(m.bias.data, 0.0)\n",
    "    elif classname.find('Linear') != -1:\n",
    "        torch.nn.init.xavier_normal_(m.weight.data)\n",
    "        torch.nn.init.constant_(m.bias.data, 0.0)\n",
    "\n",
    "def inplace_relu(m):\n",
    "    classname = m.__class__.__name__\n",
    "    if classname.find('ReLU') != -1:\n",
    "        m.inplace=True\n",
    "classifier = classifier.apply(inplace_relu)\n",
    "classifier = classifier.apply(weights_init)"
   ]
  },
  {
   "cell_type": "code",
   "execution_count": 7,
   "id": "5c0d0516",
   "metadata": {},
   "outputs": [
    {
     "name": "stdout",
     "output_type": "stream",
     "text": [
      "torch.Size([3]) torch.Size([3])\n"
     ]
    }
   ],
   "source": [
    "input = torch.randn(3, requires_grad=True)\n",
    "target = torch.empty(3).random_(2)\n",
    "print(input.shape, target.shape)"
   ]
  },
  {
   "cell_type": "code",
   "execution_count": 48,
   "id": "10347b40",
   "metadata": {},
   "outputs": [
    {
     "data": {
      "application/vnd.jupyter.widget-view+json": {
       "model_id": "4ecafd664db046999c5529e9cad06288",
       "version_major": 2,
       "version_minor": 0
      },
      "text/plain": [
       "  0%|          | 0/668 [00:00<?, ?it/s]"
      ]
     },
     "metadata": {},
     "output_type": "display_data"
    },
    {
     "name": "stdout",
     "output_type": "stream",
     "text": [
      "Epoch: 1\n",
      "Train Instance Accuracy: 0.876696\n",
      "Train Loss: 201.940895\n",
      "Test Instance Accuracy: 0.874349\n"
     ]
    },
    {
     "data": {
      "application/vnd.jupyter.widget-view+json": {
       "model_id": "4c639f53928740beafcc496729ee4f93",
       "version_major": 2,
       "version_minor": 0
      },
      "text/plain": [
       "  0%|          | 0/668 [00:00<?, ?it/s]"
      ]
     },
     "metadata": {},
     "output_type": "display_data"
    },
    {
     "name": "stdout",
     "output_type": "stream",
     "text": [
      "Epoch: 2\n",
      "Train Instance Accuracy: 0.876871\n",
      "Train Loss: 201.902913\n",
      "Test Instance Accuracy: 0.873930\n"
     ]
    },
    {
     "data": {
      "application/vnd.jupyter.widget-view+json": {
       "model_id": "87d712575c2140c5883140d5f86182f8",
       "version_major": 2,
       "version_minor": 0
      },
      "text/plain": [
       "  0%|          | 0/668 [00:00<?, ?it/s]"
      ]
     },
     "metadata": {},
     "output_type": "display_data"
    },
    {
     "name": "stdout",
     "output_type": "stream",
     "text": [
      "Epoch: 3\n",
      "Train Instance Accuracy: 0.877140\n",
      "Train Loss: 201.579371\n",
      "Test Instance Accuracy: 0.873372\n"
     ]
    },
    {
     "data": {
      "application/vnd.jupyter.widget-view+json": {
       "model_id": "65b30660d3c44b7ab91352e4737b3835",
       "version_major": 2,
       "version_minor": 0
      },
      "text/plain": [
       "  0%|          | 0/668 [00:00<?, ?it/s]"
      ]
     },
     "metadata": {},
     "output_type": "display_data"
    },
    {
     "name": "stdout",
     "output_type": "stream",
     "text": [
      "Epoch: 4\n",
      "Train Instance Accuracy: 0.876544\n",
      "Train Loss: 201.276718\n",
      "Test Instance Accuracy: 0.874163\n"
     ]
    },
    {
     "data": {
      "application/vnd.jupyter.widget-view+json": {
       "model_id": "7bad8bd9a47b4dafb47eee3e95f3e29f",
       "version_major": 2,
       "version_minor": 0
      },
      "text/plain": [
       "  0%|          | 0/668 [00:00<?, ?it/s]"
      ]
     },
     "metadata": {},
     "output_type": "display_data"
    },
    {
     "name": "stdout",
     "output_type": "stream",
     "text": [
      "Epoch: 5\n",
      "Train Instance Accuracy: 0.876824\n",
      "Train Loss: 200.545394\n",
      "Test Instance Accuracy: 0.873512\n"
     ]
    },
    {
     "data": {
      "application/vnd.jupyter.widget-view+json": {
       "model_id": "222bb5a4a5c3486abc54a9d4c34cb20a",
       "version_major": 2,
       "version_minor": 0
      },
      "text/plain": [
       "  0%|          | 0/668 [00:00<?, ?it/s]"
      ]
     },
     "metadata": {},
     "output_type": "display_data"
    },
    {
     "name": "stdout",
     "output_type": "stream",
     "text": [
      "Epoch: 6\n",
      "Train Instance Accuracy: 0.876649\n",
      "Train Loss: 200.753572\n",
      "Test Instance Accuracy: 0.873512\n"
     ]
    },
    {
     "data": {
      "application/vnd.jupyter.widget-view+json": {
       "model_id": "5b57bc2f49304e2eb372476550c207e3",
       "version_major": 2,
       "version_minor": 0
      },
      "text/plain": [
       "  0%|          | 0/668 [00:00<?, ?it/s]"
      ]
     },
     "metadata": {},
     "output_type": "display_data"
    },
    {
     "name": "stdout",
     "output_type": "stream",
     "text": [
      "Epoch: 7\n",
      "Train Instance Accuracy: 0.877129\n",
      "Train Loss: 200.562506\n",
      "Test Instance Accuracy: 0.874535\n"
     ]
    },
    {
     "data": {
      "application/vnd.jupyter.widget-view+json": {
       "model_id": "8b8a098564de477ebf61db6670bd5c01",
       "version_major": 2,
       "version_minor": 0
      },
      "text/plain": [
       "  0%|          | 0/668 [00:00<?, ?it/s]"
      ]
     },
     "metadata": {},
     "output_type": "display_data"
    },
    {
     "name": "stdout",
     "output_type": "stream",
     "text": [
      "Epoch: 8\n",
      "Train Instance Accuracy: 0.876555\n",
      "Train Loss: 200.404758\n",
      "Test Instance Accuracy: 0.874628\n"
     ]
    },
    {
     "data": {
      "application/vnd.jupyter.widget-view+json": {
       "model_id": "db791e5d15754c75bd18e249a7371151",
       "version_major": 2,
       "version_minor": 0
      },
      "text/plain": [
       "  0%|          | 0/668 [00:00<?, ?it/s]"
      ]
     },
     "metadata": {},
     "output_type": "display_data"
    },
    {
     "name": "stdout",
     "output_type": "stream",
     "text": [
      "Epoch: 9\n",
      "Train Instance Accuracy: 0.877058\n",
      "Train Loss: 200.117628\n",
      "Test Instance Accuracy: 0.874535\n"
     ]
    },
    {
     "data": {
      "application/vnd.jupyter.widget-view+json": {
       "model_id": "76f77d36169c45969adaf54a002557bd",
       "version_major": 2,
       "version_minor": 0
      },
      "text/plain": [
       "  0%|          | 0/668 [00:00<?, ?it/s]"
      ]
     },
     "metadata": {},
     "output_type": "display_data"
    },
    {
     "name": "stdout",
     "output_type": "stream",
     "text": [
      "Epoch: 10\n",
      "Train Instance Accuracy: 0.876719\n",
      "Train Loss: 199.842300\n",
      "Test Instance Accuracy: 0.875000\n"
     ]
    },
    {
     "data": {
      "application/vnd.jupyter.widget-view+json": {
       "model_id": "1195f37ac73b4399a3d79eb96e06dcf8",
       "version_major": 2,
       "version_minor": 0
      },
      "text/plain": [
       "  0%|          | 0/668 [00:00<?, ?it/s]"
      ]
     },
     "metadata": {},
     "output_type": "display_data"
    },
    {
     "name": "stdout",
     "output_type": "stream",
     "text": [
      "Epoch: 11\n",
      "Train Instance Accuracy: 0.876988\n",
      "Train Loss: 200.175286\n",
      "Test Instance Accuracy: 0.874209\n"
     ]
    },
    {
     "data": {
      "application/vnd.jupyter.widget-view+json": {
       "model_id": "229622e99d314fbe810475f5a2f5aa24",
       "version_major": 2,
       "version_minor": 0
      },
      "text/plain": [
       "  0%|          | 0/668 [00:00<?, ?it/s]"
      ]
     },
     "metadata": {},
     "output_type": "display_data"
    },
    {
     "name": "stdout",
     "output_type": "stream",
     "text": [
      "Epoch: 12\n",
      "Train Instance Accuracy: 0.877164\n",
      "Train Loss: 199.874115\n",
      "Test Instance Accuracy: 0.874814\n"
     ]
    },
    {
     "data": {
      "application/vnd.jupyter.widget-view+json": {
       "model_id": "f1850ec3dc234766ab03086025a23087",
       "version_major": 2,
       "version_minor": 0
      },
      "text/plain": [
       "  0%|          | 0/668 [00:00<?, ?it/s]"
      ]
     },
     "metadata": {},
     "output_type": "display_data"
    },
    {
     "name": "stdout",
     "output_type": "stream",
     "text": [
      "Epoch: 13\n",
      "Train Instance Accuracy: 0.876708\n",
      "Train Loss: 200.370815\n",
      "Test Instance Accuracy: 0.874581\n"
     ]
    },
    {
     "data": {
      "application/vnd.jupyter.widget-view+json": {
       "model_id": "560f941ded054f9e8bcfebfa38b7c191",
       "version_major": 2,
       "version_minor": 0
      },
      "text/plain": [
       "  0%|          | 0/668 [00:00<?, ?it/s]"
      ]
     },
     "metadata": {},
     "output_type": "display_data"
    },
    {
     "name": "stdout",
     "output_type": "stream",
     "text": [
      "Epoch: 14\n",
      "Train Instance Accuracy: 0.877070\n",
      "Train Loss: 200.186821\n",
      "Test Instance Accuracy: 0.874209\n"
     ]
    },
    {
     "data": {
      "application/vnd.jupyter.widget-view+json": {
       "model_id": "52ebb46a9f5d49ec86153cc880a7ca64",
       "version_major": 2,
       "version_minor": 0
      },
      "text/plain": [
       "  0%|          | 0/668 [00:00<?, ?it/s]"
      ]
     },
     "metadata": {},
     "output_type": "display_data"
    },
    {
     "name": "stdout",
     "output_type": "stream",
     "text": [
      "Epoch: 15\n",
      "Train Instance Accuracy: 0.876602\n",
      "Train Loss: 199.957280\n",
      "Test Instance Accuracy: 0.874488\n"
     ]
    },
    {
     "data": {
      "application/vnd.jupyter.widget-view+json": {
       "model_id": "ddcecb4370374947b374f594aab731ba",
       "version_major": 2,
       "version_minor": 0
      },
      "text/plain": [
       "  0%|          | 0/668 [00:00<?, ?it/s]"
      ]
     },
     "metadata": {},
     "output_type": "display_data"
    },
    {
     "name": "stdout",
     "output_type": "stream",
     "text": [
      "Epoch: 16\n",
      "Train Instance Accuracy: 0.877222\n",
      "Train Loss: 199.644055\n",
      "Test Instance Accuracy: 0.874070\n"
     ]
    },
    {
     "data": {
      "application/vnd.jupyter.widget-view+json": {
       "model_id": "46d28cf18eee4831bbe93b4fe2e72fd8",
       "version_major": 2,
       "version_minor": 0
      },
      "text/plain": [
       "  0%|          | 0/668 [00:00<?, ?it/s]"
      ]
     },
     "metadata": {},
     "output_type": "display_data"
    },
    {
     "name": "stdout",
     "output_type": "stream",
     "text": [
      "Epoch: 17\n",
      "Train Instance Accuracy: 0.876883\n",
      "Train Loss: 199.655181\n",
      "Test Instance Accuracy: 0.874070\n"
     ]
    },
    {
     "data": {
      "application/vnd.jupyter.widget-view+json": {
       "model_id": "3e34c66132c14fbf97a75ceeaa90ec56",
       "version_major": 2,
       "version_minor": 0
      },
      "text/plain": [
       "  0%|          | 0/668 [00:00<?, ?it/s]"
      ]
     },
     "metadata": {},
     "output_type": "display_data"
    },
    {
     "name": "stdout",
     "output_type": "stream",
     "text": [
      "Epoch: 18\n",
      "Train Instance Accuracy: 0.877292\n",
      "Train Loss: 199.527383\n",
      "Test Instance Accuracy: 0.874907\n"
     ]
    },
    {
     "data": {
      "application/vnd.jupyter.widget-view+json": {
       "model_id": "1d5801a3647a45d593dd896ead03ec38",
       "version_major": 2,
       "version_minor": 0
      },
      "text/plain": [
       "  0%|          | 0/668 [00:00<?, ?it/s]"
      ]
     },
     "metadata": {},
     "output_type": "display_data"
    },
    {
     "name": "stdout",
     "output_type": "stream",
     "text": [
      "Epoch: 19\n",
      "Train Instance Accuracy: 0.876661\n",
      "Train Loss: 199.501690\n",
      "Test Instance Accuracy: 0.873233\n"
     ]
    },
    {
     "data": {
      "application/vnd.jupyter.widget-view+json": {
       "model_id": "fe91a471cf3844f084d44934377a53c3",
       "version_major": 2,
       "version_minor": 0
      },
      "text/plain": [
       "  0%|          | 0/668 [00:00<?, ?it/s]"
      ]
     },
     "metadata": {},
     "output_type": "display_data"
    },
    {
     "name": "stdout",
     "output_type": "stream",
     "text": [
      "Epoch: 20\n",
      "Train Instance Accuracy: 0.876918\n",
      "Train Loss: 199.215974\n",
      "Test Instance Accuracy: 0.874209\n"
     ]
    }
   ],
   "source": [
    "train_hist_loss = []\n",
    "train_hist_acc = []\n",
    "test_hist_acc = []\n",
    "for epoch in range(20):\n",
    "    num_batches = len(train_loader)\n",
    "    total_correct = 0\n",
    "    total_seen = 0\n",
    "    loss_sum = 0\n",
    "    classifier = classifier.train()\n",
    "    mean_correct = []\n",
    "    total_loss = 0\n",
    "    for i, (points, target) in tqdm(enumerate(train_loader), total=len(train_loader), smoothing=0.9):\n",
    "        optimizer.zero_grad()\n",
    "\n",
    "        #points = points.data.numpy()\n",
    "        #points = torch.Tensor(points)\n",
    "        points = points.transpose(2, 1)\n",
    "        norm = points[:, 3:, :]\n",
    "        xyz = points[:, :3, :]\n",
    "        \n",
    "        xyz, norm, target = xyz.float().cuda(), norm.float().cuda(), target.float().cuda()\n",
    "        #print(xyz.shape, norm.shape)\n",
    "        pred = classifier(xyz, norm)\n",
    "        pred = torch.sigmoid(pred)\n",
    "        loss = criterion(pred, target)\n",
    "        \n",
    "        loss.backward()\n",
    "        optimizer.step()\n",
    "        total_loss += loss.cpu().detach().data.item()\n",
    "\n",
    "        \n",
    "        pred[pred >= 0.5] = 1\n",
    "        pred[pred < 0.5] = 0 \n",
    "        correct = (pred == target).sum().cpu()\n",
    "        mean_correct.append(correct.item() / float(points.size()[0]) / 8)\n",
    "        \n",
    "        \n",
    "        \n",
    "    train_instance_acc = np.mean(mean_correct)\n",
    "    train_hist_acc.append(train_instance_acc)\n",
    "    train_hist_loss.append(total_loss)\n",
    "    print(\"Epoch: {}\".format(epoch+1))\n",
    "    print('Train Instance Accuracy: %f' % train_instance_acc)\n",
    "    print('Train Loss: %f' % total_loss)\n",
    "    \n",
    "    mean_correct_test = []\n",
    "    with torch.no_grad():\n",
    "        for i, (points, target) in enumerate(test_loader):\n",
    "\n",
    "            points = points.transpose(2, 1)\n",
    "            norm = points[:, 3:, :]\n",
    "            xyz = points[:, :3, :]\n",
    "\n",
    "            xyz, norm, target = xyz.float().cuda(), norm.float().cuda(), target.long().cuda()\n",
    "            pred = classifier(xyz, norm)\n",
    "            pred = torch.sigmoid(pred)\n",
    "\n",
    "            pred[pred >= 0.5] = 1\n",
    "            pred[pred < 0.5] = 0 \n",
    "            correct = (pred == target).sum().cpu()\n",
    "            mean_correct_test.append(correct.item() / float(points.size()[0]) / 8)\n",
    "        test_instance_acc = np.mean(mean_correct_test)\n",
    "        test_hist_acc.append(test_instance_acc)\n",
    "        #print(\"Epoch: {}\".format(epoch+1))\n",
    "        print('Test Instance Accuracy: %f' % test_instance_acc)"
   ]
  },
  {
   "cell_type": "code",
   "execution_count": 61,
   "id": "4eb4f210",
   "metadata": {},
   "outputs": [],
   "source": [
    "res = np.array([0]*8)\n",
    "pred_, true_ = [], []\n",
    "with torch.no_grad():\n",
    "    for i, (points, target) in enumerate(test_loader):\n",
    "\n",
    "        points = points.transpose(2, 1)\n",
    "        norm = points[:, 3:, :]\n",
    "        xyz = points[:, :3, :]\n",
    "\n",
    "        xyz, norm, target = xyz.float().cuda(), norm.float().cuda(), target.long().cuda()\n",
    "        pred = classifier(xyz, norm)\n",
    "        pred = torch.sigmoid(pred)\n",
    "\n",
    "        pred[pred >= 0.5] = 1\n",
    "        pred[pred < 0.5] = 0 \n",
    "        \n",
    "        res += (pred == target).sum(axis=0).cpu().numpy()\n",
    "        pred_.append(pred.cpu().numpy())\n",
    "        true_.append(target.cpu().numpy())"
   ]
  },
  {
   "cell_type": "code",
   "execution_count": 63,
   "id": "09c4b967",
   "metadata": {},
   "outputs": [],
   "source": [
    "pred_, true_ = np.concatenate(pred_), np.concatenate(true_)"
   ]
  },
  {
   "cell_type": "code",
   "execution_count": 66,
   "id": "cc08fc65",
   "metadata": {},
   "outputs": [],
   "source": [
    "from sklearn.metrics import confusion_matrix"
   ]
  },
  {
   "cell_type": "code",
   "execution_count": 80,
   "id": "13ddc137",
   "metadata": {},
   "outputs": [
    {
     "name": "stdout",
     "output_type": "stream",
     "text": [
      "0 2511\n",
      "[   0  163    0 2511]\n",
      "1 2246\n",
      "[   0  428    0 2246]\n",
      "2 2674\n",
      "[2674]\n",
      "3 2642\n",
      "[   0   32    0 2642]\n",
      "4 2618\n",
      "[   0   56    0 2618]\n",
      "5 2143\n",
      "[   0  531    1 2142]\n",
      "6 1661\n",
      "[ 178  835  106 1555]\n",
      "7 518\n",
      "[2156    0  518    0]\n"
     ]
    }
   ],
   "source": [
    "for i in range(8):\n",
    "    print(i, np.sum(true_[:, i]))\n",
    "    print(confusion_matrix(true_[:,i], pred_[:,i]).ravel())"
   ]
  },
  {
   "cell_type": "code",
   "execution_count": null,
   "id": "6a00578b",
   "metadata": {},
   "outputs": [],
   "source": []
  }
 ],
 "metadata": {
  "kernelspec": {
   "display_name": "Python [conda env:pc] *",
   "language": "python",
   "name": "conda-env-pc-py"
  },
  "language_info": {
   "codemirror_mode": {
    "name": "ipython",
    "version": 3
   },
   "file_extension": ".py",
   "mimetype": "text/x-python",
   "name": "python",
   "nbconvert_exporter": "python",
   "pygments_lexer": "ipython3",
   "version": "3.8.12"
  }
 },
 "nbformat": 4,
 "nbformat_minor": 5
}
