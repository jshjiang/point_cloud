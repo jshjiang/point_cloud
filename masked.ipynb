{
 "cells": [
  {
   "cell_type": "code",
   "execution_count": 1,
   "id": "fdc348aa",
   "metadata": {},
   "outputs": [],
   "source": [
    "import os\n",
    "\n",
    "os.environ[\"CUDA_DEVICE_ORDER\"]=\"PCI_BUS_ID\"   # see issue #152\n",
    "os.environ[\"CUDA_VISIBLE_DEVICES\"]=\"6\""
   ]
  },
  {
   "cell_type": "code",
   "execution_count": 2,
   "id": "0b7152b8",
   "metadata": {},
   "outputs": [],
   "source": [
    "from sklearn.model_selection import train_test_split\n",
    "from tqdm.notebook import tqdm\n",
    "from tensorflow.keras.utils import to_categorical\n",
    "\n",
    "import numpy as np\n",
    "import pickle\n",
    "from torch.utils.data import DataLoader, Dataset\n",
    "\n",
    "import sys \n",
    "# sys.path.append('..')\n",
    "# from models.GACNet.modules import GACNet, get_loss\n",
    "\n",
    "import torch\n",
    "import random"
   ]
  },
  {
   "cell_type": "code",
   "execution_count": 3,
   "id": "7c447f25",
   "metadata": {},
   "outputs": [],
   "source": [
    "from tensorflow.keras import backend as K\n",
    "from collections import Counter\n",
    "def q3_acc(y_true, y_pred):\n",
    "    y = tf.argmax(y_true, axis=-1)\n",
    "    y_ = tf.argmax(y_pred, axis=-1)\n",
    "    mask = tf.greater(y, 0)\n",
    "    return K.cast(K.equal(tf.boolean_mask(y, mask), tf.boolean_mask(y_, mask)), K.floatx())\n",
    "\n",
    "from tensorflow.keras.preprocessing.text import Tokenizer\n",
    "from tensorflow.keras.utils import to_categorical\n",
    "\n",
    "from tensorflow.keras.preprocessing import sequence\n",
    "\n",
    "atom_dict_ = {'H': 0,\n",
    "         'C': 1,\n",
    "         'O': 2,\n",
    "         'N': 3,\n",
    "         'S': 4}"
   ]
  },
  {
   "cell_type": "code",
   "execution_count": 4,
   "id": "ef44f2d8",
   "metadata": {},
   "outputs": [],
   "source": [
    "with open('../../ms_final/ss/data/atom_ss_X.pkl', 'rb') as handle:\n",
    "    X = pickle.load(handle)\n",
    "with open('../../ms_final/ss/data/atom_ss_y.pkl', 'rb') as handle:\n",
    "    y = pickle.load(handle)"
   ]
  },
  {
   "cell_type": "code",
   "execution_count": 5,
   "id": "ac6819e7",
   "metadata": {},
   "outputs": [
    {
     "data": {
      "text/plain": [
       "(2559, 2457)"
      ]
     },
     "execution_count": 5,
     "metadata": {},
     "output_type": "execute_result"
    }
   ],
   "source": [
    "len(X[0]), len(X[1])"
   ]
  },
  {
   "cell_type": "code",
   "execution_count": 6,
   "id": "13382efa",
   "metadata": {},
   "outputs": [],
   "source": [
    "perc = 0.3"
   ]
  },
  {
   "cell_type": "code",
   "execution_count": 7,
   "id": "8f484415",
   "metadata": {},
   "outputs": [],
   "source": [
    "sel1, sel2 = np.array(X[0]), np.array(X[1])\n",
    "cls1, cls2 = [], []\n",
    "for _ in range(5000):\n",
    "    index = np.random.choice(sel1.shape[0], int(sel1.shape[0]*perc), replace=False)  \n",
    "    cls1.append(sel1[index])\n",
    "    \n",
    "for _ in range(5000):\n",
    "    index = np.random.choice(sel2.shape[0], int(sel2.shape[0]*perc), replace=False)  \n",
    "    cls2.append(sel2[index])"
   ]
  },
  {
   "cell_type": "code",
   "execution_count": 8,
   "id": "e870ee3a",
   "metadata": {},
   "outputs": [],
   "source": [
    "X_ = cls1 + cls2\n",
    "y = [0]*len(cls1) + [1]*len(cls2)"
   ]
  },
  {
   "cell_type": "code",
   "execution_count": 9,
   "id": "fb56b484",
   "metadata": {},
   "outputs": [],
   "source": [
    "normalize = True\n",
    "for idx in range(len(X_)):\n",
    "    cur_coord = []\n",
    "    cur_feat = []\n",
    "    \n",
    "    cur_x = X_[idx]\n",
    "    for i in cur_x:\n",
    "        a = i[0]\n",
    "        b = i[1]\n",
    "        c = i[2]\n",
    "        cur_coord.append([a, b, c])\n",
    "        \n",
    "        atom = i[3]\n",
    "        zeros = [0 for _ in range(5)]\n",
    "        if atom in atom_dict_:\n",
    "            zeros[atom_dict_[atom]] = 1\n",
    "        cur_feat.append(zeros)\n",
    "        \n",
    "    xyz = np.asarray(cur_coord, dtype = np.float32)\n",
    "    norm = np.asarray(cur_feat, dtype = np.int32)\n",
    "    centroid = np.mean(xyz, axis=0)\n",
    "    xyz -= centroid\n",
    "    if normalize:\n",
    "        m = np.max(np.sqrt(np.sum(xyz**2, axis=1)))\n",
    "        xyz = xyz / m\n",
    "    \n",
    "    points = np.concatenate([xyz, norm], 1)\n",
    "    X_[idx] = points"
   ]
  },
  {
   "cell_type": "code",
   "execution_count": 10,
   "id": "296ebdff",
   "metadata": {},
   "outputs": [],
   "source": [
    "l = [len(x) for x in X_]"
   ]
  },
  {
   "cell_type": "code",
   "execution_count": 11,
   "id": "4999fbe0",
   "metadata": {},
   "outputs": [
    {
     "data": {
      "text/plain": [
       "737.0"
      ]
     },
     "execution_count": 11,
     "metadata": {},
     "output_type": "execute_result"
    }
   ],
   "source": [
    "np.percentile(l, 1)"
   ]
  },
  {
   "cell_type": "code",
   "execution_count": 12,
   "id": "60d8801a",
   "metadata": {},
   "outputs": [],
   "source": [
    "max_len = int(np.percentile(l, 1))"
   ]
  },
  {
   "cell_type": "code",
   "execution_count": 13,
   "id": "87546422",
   "metadata": {},
   "outputs": [],
   "source": [
    "input_data = sequence.pad_sequences(X_, maxlen=max_len, padding='post', dtype='float32', truncating='post')\n",
    "y = np.array(y)"
   ]
  },
  {
   "cell_type": "code",
   "execution_count": 14,
   "id": "217bf07e",
   "metadata": {},
   "outputs": [
    {
     "data": {
      "text/plain": [
       "((8000, 737, 8), (8000,))"
      ]
     },
     "execution_count": 14,
     "metadata": {},
     "output_type": "execute_result"
    }
   ],
   "source": [
    "X_train, X_test, y_train, y_test = train_test_split(input_data, y, test_size=.2, random_state=0)\n",
    "X_train.shape, y_train.shape"
   ]
  },
  {
   "cell_type": "code",
   "execution_count": 15,
   "id": "ee3e84d9",
   "metadata": {},
   "outputs": [
    {
     "name": "stderr",
     "output_type": "stream",
     "text": [
      "/homes/songhao.jiang/anaconda3/envs/pc/lib/python3.8/site-packages/pointnet2_ops/pointnet2_utils.py:15: UserWarning: Unable to load pointnet2_ops cpp extension. JIT Compiling.\n",
      "  warnings.warn(\"Unable to load pointnet2_ops cpp extension. JIT Compiling.\")\n"
     ]
    }
   ],
   "source": [
    "from models.GACNet.modules_new import GACNet, get_loss"
   ]
  },
  {
   "cell_type": "code",
   "execution_count": 16,
   "id": "c8a1bb0b",
   "metadata": {},
   "outputs": [],
   "source": [
    "class PC_dataset(Dataset):\n",
    "\n",
    "    def __init__(self, x, y):\n",
    "        self.x = x\n",
    "        self.y = y\n",
    "\n",
    "    def __len__(self):\n",
    "        return len(self.x)\n",
    "\n",
    "    def __getitem__(self, idx):\n",
    "        pc = self.x[idx]\n",
    "        label = self.y[idx]\n",
    "\n",
    "        return pc, label\n",
    "\n",
    "train_dataset = PC_dataset(X_train, y_train)\n",
    "test_dataset = PC_dataset(X_test, y_test)\n",
    "\n",
    "train_loader = DataLoader(train_dataset, batch_size=16, shuffle=True, drop_last=True)\n",
    "test_loader = DataLoader(test_dataset, batch_size=16, shuffle=False)"
   ]
  },
  {
   "cell_type": "code",
   "execution_count": 19,
   "id": "811a1c6d",
   "metadata": {},
   "outputs": [],
   "source": [
    "NUM_CLASSES = 2\n",
    "\n",
    "classifier = GACNet(NUM_CLASSES).cuda()\n",
    "#criterion = get_loss()\n",
    "# criterion = torch.nn.BCELoss().cuda()\n",
    "criterion = get_loss().cuda()\n",
    "\n",
    "optimizer = torch.optim.Adam(\n",
    "    classifier.parameters(),\n",
    "    lr=0.001,\n",
    "    betas=(0.9, 0.999),\n",
    "    eps=1e-07,\n",
    "    weight_decay=0\n",
    ")\n",
    "\n",
    "def weights_init(m):\n",
    "    classname = m.__class__.__name__\n",
    "    if classname.find('Conv2d') != -1:\n",
    "        torch.nn.init.xavier_normal_(m.weight.data)\n",
    "        torch.nn.init.constant_(m.bias.data, 0.0)\n",
    "    elif classname.find('Linear') != -1:\n",
    "        torch.nn.init.xavier_normal_(m.weight.data)\n",
    "        torch.nn.init.constant_(m.bias.data, 0.0)\n",
    "\n",
    "def inplace_relu(m):\n",
    "    classname = m.__class__.__name__\n",
    "    if classname.find('ReLU') != -1:\n",
    "        m.inplace=True\n",
    "classifier = classifier.apply(inplace_relu)\n",
    "classifier = classifier.apply(weights_init)"
   ]
  },
  {
   "cell_type": "code",
   "execution_count": 30,
   "id": "a4883177",
   "metadata": {},
   "outputs": [],
   "source": [
    "def rotate_point_cloud_z(batch_data):\n",
    "    \"\"\" Randomly rotate the point clouds to augument the dataset\n",
    "        rotation is per shape based along up direction\n",
    "        Input:\n",
    "          BxNx3 array, original batch of point clouds\n",
    "        Return:\n",
    "          BxNx3 array, rotated batch of point clouds\n",
    "    \"\"\"\n",
    "    rotated_data = np.zeros(batch_data.shape, dtype=np.float32)\n",
    "    for k in range(batch_data.shape[0]):\n",
    "        rotation_angle = np.random.uniform() * 2 * np.pi\n",
    "        cosval = np.cos(rotation_angle)\n",
    "        sinval = np.sin(rotation_angle)\n",
    "        rotation_matrix = np.array([[cosval, sinval, 0],\n",
    "                                    [-sinval, cosval, 0],\n",
    "                                    [0, 0, 1]])\n",
    "        shape_pc = batch_data[k, ...]\n",
    "        rotated_data[k, ...] = np.dot(shape_pc.reshape((-1, 3)), rotation_matrix)\n",
    "    return rotated_data"
   ]
  },
  {
   "cell_type": "code",
   "execution_count": null,
   "id": "9412ab40",
   "metadata": {},
   "outputs": [
    {
     "data": {
      "application/vnd.jupyter.widget-view+json": {
       "model_id": "946b8bab6bc5458ca5e0af24e2fdd513",
       "version_major": 2,
       "version_minor": 0
      },
      "text/plain": [
       "  0%|          | 0/500 [00:00<?, ?it/s]"
      ]
     },
     "metadata": {},
     "output_type": "display_data"
    },
    {
     "name": "stdout",
     "output_type": "stream",
     "text": [
      "Epoch: 1\n",
      "Train Instance Accuracy: 0.798000\n",
      "Train Loss: 221.344244\n",
      "Test Instance Accuracy: 0.834500\n"
     ]
    },
    {
     "data": {
      "application/vnd.jupyter.widget-view+json": {
       "model_id": "43abaf583cc1470d9a97e2a9ec69a93d",
       "version_major": 2,
       "version_minor": 0
      },
      "text/plain": [
       "  0%|          | 0/500 [00:00<?, ?it/s]"
      ]
     },
     "metadata": {},
     "output_type": "display_data"
    },
    {
     "name": "stdout",
     "output_type": "stream",
     "text": [
      "Epoch: 2\n",
      "Train Instance Accuracy: 0.835375\n",
      "Train Loss: 192.865885\n",
      "Test Instance Accuracy: 0.828000\n"
     ]
    },
    {
     "data": {
      "application/vnd.jupyter.widget-view+json": {
       "model_id": "90c6f6b8dddf487d88357814793b4582",
       "version_major": 2,
       "version_minor": 0
      },
      "text/plain": [
       "  0%|          | 0/500 [00:00<?, ?it/s]"
      ]
     },
     "metadata": {},
     "output_type": "display_data"
    },
    {
     "name": "stdout",
     "output_type": "stream",
     "text": [
      "Epoch: 3\n",
      "Train Instance Accuracy: 0.850750\n",
      "Train Loss: 176.676896\n",
      "Test Instance Accuracy: 0.879500\n"
     ]
    },
    {
     "data": {
      "application/vnd.jupyter.widget-view+json": {
       "model_id": "3efca82dd82c45ec8ae86d2148e310c5",
       "version_major": 2,
       "version_minor": 0
      },
      "text/plain": [
       "  0%|          | 0/500 [00:00<?, ?it/s]"
      ]
     },
     "metadata": {},
     "output_type": "display_data"
    },
    {
     "name": "stdout",
     "output_type": "stream",
     "text": [
      "Epoch: 4\n",
      "Train Instance Accuracy: 0.868000\n",
      "Train Loss: 167.155889\n",
      "Test Instance Accuracy: 0.861000\n"
     ]
    },
    {
     "data": {
      "application/vnd.jupyter.widget-view+json": {
       "model_id": "f2b39835bc4b4d6faec87f49cc6406ce",
       "version_major": 2,
       "version_minor": 0
      },
      "text/plain": [
       "  0%|          | 0/500 [00:00<?, ?it/s]"
      ]
     },
     "metadata": {},
     "output_type": "display_data"
    },
    {
     "name": "stdout",
     "output_type": "stream",
     "text": [
      "Epoch: 5\n",
      "Train Instance Accuracy: 0.877875\n",
      "Train Loss: 151.793852\n",
      "Test Instance Accuracy: 0.885000\n"
     ]
    },
    {
     "data": {
      "application/vnd.jupyter.widget-view+json": {
       "model_id": "dcb3c09163dc437d9b17743879dc9214",
       "version_major": 2,
       "version_minor": 0
      },
      "text/plain": [
       "  0%|          | 0/500 [00:00<?, ?it/s]"
      ]
     },
     "metadata": {},
     "output_type": "display_data"
    },
    {
     "name": "stdout",
     "output_type": "stream",
     "text": [
      "Epoch: 6\n",
      "Train Instance Accuracy: 0.882875\n",
      "Train Loss: 144.874851\n",
      "Test Instance Accuracy: 0.889000\n"
     ]
    },
    {
     "data": {
      "application/vnd.jupyter.widget-view+json": {
       "model_id": "51936378b9da44c9992d3ce902f091a3",
       "version_major": 2,
       "version_minor": 0
      },
      "text/plain": [
       "  0%|          | 0/500 [00:00<?, ?it/s]"
      ]
     },
     "metadata": {},
     "output_type": "display_data"
    },
    {
     "name": "stdout",
     "output_type": "stream",
     "text": [
      "Epoch: 7\n",
      "Train Instance Accuracy: 0.889875\n",
      "Train Loss: 139.030209\n",
      "Test Instance Accuracy: 0.888000\n"
     ]
    },
    {
     "data": {
      "application/vnd.jupyter.widget-view+json": {
       "model_id": "d58e063524804e699aa47c71ad7b4089",
       "version_major": 2,
       "version_minor": 0
      },
      "text/plain": [
       "  0%|          | 0/500 [00:00<?, ?it/s]"
      ]
     },
     "metadata": {},
     "output_type": "display_data"
    },
    {
     "name": "stdout",
     "output_type": "stream",
     "text": [
      "Epoch: 8\n",
      "Train Instance Accuracy: 0.886500\n",
      "Train Loss: 140.109290\n",
      "Test Instance Accuracy: 0.899500\n"
     ]
    },
    {
     "data": {
      "application/vnd.jupyter.widget-view+json": {
       "model_id": "28e977189b41414eaa2e7ed4a7203d19",
       "version_major": 2,
       "version_minor": 0
      },
      "text/plain": [
       "  0%|          | 0/500 [00:00<?, ?it/s]"
      ]
     },
     "metadata": {},
     "output_type": "display_data"
    },
    {
     "name": "stdout",
     "output_type": "stream",
     "text": [
      "Epoch: 9\n",
      "Train Instance Accuracy: 0.889625\n",
      "Train Loss: 133.963263\n",
      "Test Instance Accuracy: 0.897500\n"
     ]
    },
    {
     "data": {
      "application/vnd.jupyter.widget-view+json": {
       "model_id": "61ed930516344fdcb955660d2a4bc372",
       "version_major": 2,
       "version_minor": 0
      },
      "text/plain": [
       "  0%|          | 0/500 [00:00<?, ?it/s]"
      ]
     },
     "metadata": {},
     "output_type": "display_data"
    },
    {
     "name": "stdout",
     "output_type": "stream",
     "text": [
      "Epoch: 10\n",
      "Train Instance Accuracy: 0.892750\n",
      "Train Loss: 132.996935\n",
      "Test Instance Accuracy: 0.894000\n"
     ]
    },
    {
     "data": {
      "application/vnd.jupyter.widget-view+json": {
       "model_id": "161291cce91549f18739d73ac8f7355e",
       "version_major": 2,
       "version_minor": 0
      },
      "text/plain": [
       "  0%|          | 0/500 [00:00<?, ?it/s]"
      ]
     },
     "metadata": {},
     "output_type": "display_data"
    },
    {
     "name": "stdout",
     "output_type": "stream",
     "text": [
      "Epoch: 11\n",
      "Train Instance Accuracy: 0.895625\n",
      "Train Loss: 132.527693\n",
      "Test Instance Accuracy: 0.894500\n"
     ]
    },
    {
     "data": {
      "application/vnd.jupyter.widget-view+json": {
       "model_id": "70a8bdc9837440cfabae3c8fbb8a2dac",
       "version_major": 2,
       "version_minor": 0
      },
      "text/plain": [
       "  0%|          | 0/500 [00:00<?, ?it/s]"
      ]
     },
     "metadata": {},
     "output_type": "display_data"
    },
    {
     "name": "stdout",
     "output_type": "stream",
     "text": [
      "Epoch: 12\n",
      "Train Instance Accuracy: 0.900500\n",
      "Train Loss: 124.494545\n",
      "Test Instance Accuracy: 0.907000\n"
     ]
    },
    {
     "data": {
      "application/vnd.jupyter.widget-view+json": {
       "model_id": "3185cf02342342b0a0a50cb1196614d7",
       "version_major": 2,
       "version_minor": 0
      },
      "text/plain": [
       "  0%|          | 0/500 [00:00<?, ?it/s]"
      ]
     },
     "metadata": {},
     "output_type": "display_data"
    },
    {
     "name": "stdout",
     "output_type": "stream",
     "text": [
      "Epoch: 13\n",
      "Train Instance Accuracy: 0.905000\n",
      "Train Loss: 124.287761\n",
      "Test Instance Accuracy: 0.905000\n"
     ]
    },
    {
     "data": {
      "application/vnd.jupyter.widget-view+json": {
       "model_id": "dd21b3f741604c6488da8da26c063f83",
       "version_major": 2,
       "version_minor": 0
      },
      "text/plain": [
       "  0%|          | 0/500 [00:00<?, ?it/s]"
      ]
     },
     "metadata": {},
     "output_type": "display_data"
    },
    {
     "name": "stdout",
     "output_type": "stream",
     "text": [
      "Epoch: 14\n",
      "Train Instance Accuracy: 0.904750\n",
      "Train Loss: 121.769026\n",
      "Test Instance Accuracy: 0.906000\n"
     ]
    },
    {
     "data": {
      "application/vnd.jupyter.widget-view+json": {
       "model_id": "d4df524122ee4d7fa7d0e5ea6458782a",
       "version_major": 2,
       "version_minor": 0
      },
      "text/plain": [
       "  0%|          | 0/500 [00:00<?, ?it/s]"
      ]
     },
     "metadata": {},
     "output_type": "display_data"
    },
    {
     "name": "stdout",
     "output_type": "stream",
     "text": [
      "Epoch: 15\n",
      "Train Instance Accuracy: 0.906250\n",
      "Train Loss: 121.609382\n",
      "Test Instance Accuracy: 0.895500\n"
     ]
    },
    {
     "data": {
      "application/vnd.jupyter.widget-view+json": {
       "model_id": "4564ab658672479ba9af1e4e29e1f7b4",
       "version_major": 2,
       "version_minor": 0
      },
      "text/plain": [
       "  0%|          | 0/500 [00:00<?, ?it/s]"
      ]
     },
     "metadata": {},
     "output_type": "display_data"
    },
    {
     "name": "stdout",
     "output_type": "stream",
     "text": [
      "Epoch: 16\n",
      "Train Instance Accuracy: 0.905500\n",
      "Train Loss: 116.972053\n",
      "Test Instance Accuracy: 0.913000\n"
     ]
    },
    {
     "data": {
      "application/vnd.jupyter.widget-view+json": {
       "model_id": "e3eeed7ee45d448e84d64e93fd79046b",
       "version_major": 2,
       "version_minor": 0
      },
      "text/plain": [
       "  0%|          | 0/500 [00:00<?, ?it/s]"
      ]
     },
     "metadata": {},
     "output_type": "display_data"
    },
    {
     "name": "stdout",
     "output_type": "stream",
     "text": [
      "Epoch: 17\n",
      "Train Instance Accuracy: 0.909750\n",
      "Train Loss: 117.136046\n",
      "Test Instance Accuracy: 0.914000\n"
     ]
    },
    {
     "data": {
      "application/vnd.jupyter.widget-view+json": {
       "model_id": "8f042a059b8447cab0e20a17e33e8d36",
       "version_major": 2,
       "version_minor": 0
      },
      "text/plain": [
       "  0%|          | 0/500 [00:00<?, ?it/s]"
      ]
     },
     "metadata": {},
     "output_type": "display_data"
    },
    {
     "name": "stdout",
     "output_type": "stream",
     "text": [
      "Epoch: 18\n",
      "Train Instance Accuracy: 0.911250\n",
      "Train Loss: 113.605628\n",
      "Test Instance Accuracy: 0.919000\n"
     ]
    },
    {
     "data": {
      "application/vnd.jupyter.widget-view+json": {
       "model_id": "6ab4fc69cbdf485c83777b80289bf86a",
       "version_major": 2,
       "version_minor": 0
      },
      "text/plain": [
       "  0%|          | 0/500 [00:00<?, ?it/s]"
      ]
     },
     "metadata": {},
     "output_type": "display_data"
    },
    {
     "name": "stdout",
     "output_type": "stream",
     "text": [
      "Epoch: 19\n",
      "Train Instance Accuracy: 0.915375\n",
      "Train Loss: 112.402882\n",
      "Test Instance Accuracy: 0.922500\n"
     ]
    },
    {
     "data": {
      "application/vnd.jupyter.widget-view+json": {
       "model_id": "2907447201754920ab59ef7e9a1b0fee",
       "version_major": 2,
       "version_minor": 0
      },
      "text/plain": [
       "  0%|          | 0/500 [00:00<?, ?it/s]"
      ]
     },
     "metadata": {},
     "output_type": "display_data"
    },
    {
     "name": "stdout",
     "output_type": "stream",
     "text": [
      "Epoch: 20\n",
      "Train Instance Accuracy: 0.922000\n",
      "Train Loss: 105.215347\n",
      "Test Instance Accuracy: 0.920500\n"
     ]
    },
    {
     "data": {
      "application/vnd.jupyter.widget-view+json": {
       "model_id": "50bf445eff494ff2b68c4f12107fbafb",
       "version_major": 2,
       "version_minor": 0
      },
      "text/plain": [
       "  0%|          | 0/500 [00:00<?, ?it/s]"
      ]
     },
     "metadata": {},
     "output_type": "display_data"
    }
   ],
   "source": [
    "train_hist_loss = []\n",
    "train_hist_acc = []\n",
    "test_hist_acc = []\n",
    "for epoch in range(150):\n",
    "    num_batches = len(train_loader)\n",
    "    total_correct = 0\n",
    "    total_seen = 0\n",
    "    loss_sum = 0\n",
    "    classifier = classifier.train()\n",
    "    mean_correct = []\n",
    "    total_loss = 0\n",
    "    for i, (points, target) in tqdm(enumerate(train_loader), total=len(train_loader), smoothing=0.9):\n",
    "        optimizer.zero_grad()\n",
    "    \n",
    "        #points = points.data.numpy()\n",
    "        #points = torch.Tensor(points)\n",
    "        points = points.data.numpy()\n",
    "        points[:, :, :3] = rotate_point_cloud_z(points[:, :, :3])\n",
    "        points = torch.Tensor(points)\n",
    "        \n",
    "        points = points.transpose(2, 1)\n",
    "        norm = points[:, 3:, :]\n",
    "        xyz = points[:, :3, :]\n",
    "        \n",
    "        xyz, norm, target = xyz.float().cuda(), norm.float().cuda(), target.long().cuda()\n",
    "        #print(xyz.shape, norm.shape)\n",
    "        pred = classifier(xyz, norm)\n",
    "        loss = criterion(pred, target.long())\n",
    "\n",
    "\n",
    "        pred_choice = pred.data.max(1)[1]\n",
    "        correct = pred_choice.eq(target.long().data).cpu().sum()\n",
    "        mean_correct.append(correct.item() / float(points.size()[0]))\n",
    "        loss.backward()\n",
    "        optimizer.step()\n",
    "        total_loss += loss.cpu().detach().data.item()\n",
    "    train_instance_acc = np.mean(mean_correct)\n",
    "    train_hist_acc.append(train_instance_acc)\n",
    "    train_hist_loss.append(total_loss)\n",
    "    print(\"Epoch: {}\".format(epoch+1))\n",
    "    print('Train Instance Accuracy: %f' % train_instance_acc)\n",
    "    print('Train Loss: %f' % total_loss)\n",
    "    \n",
    "    mean_correct_test = []\n",
    "    with torch.no_grad():\n",
    "        for i, (points, target) in enumerate(test_loader):\n",
    "\n",
    "            points = points.transpose(2, 1)\n",
    "            norm = points[:, 3:, :]\n",
    "            xyz = points[:, :3, :]\n",
    "\n",
    "            xyz, norm, target = xyz.float().cuda(), norm.float().cuda(), target.long().cuda()\n",
    "            pred = classifier(xyz, norm)\n",
    "\n",
    "\n",
    "            pred_choice = pred.data.max(1)[1]\n",
    "            correct = pred_choice.eq(target.long().data).cpu().sum()\n",
    "            mean_correct_test.append(correct.item() / float(points.size()[0]))\n",
    "        test_instance_acc = np.mean(mean_correct_test)\n",
    "        test_hist_acc.append(test_instance_acc)\n",
    "        #print(\"Epoch: {}\".format(epoch+1))\n",
    "        print('Test Instance Accuracy: %f' % test_instance_acc)"
   ]
  },
  {
   "cell_type": "code",
   "execution_count": 107,
   "id": "21e6f499",
   "metadata": {},
   "outputs": [
    {
     "data": {
      "text/plain": [
       "torch.Size([16, 2])"
      ]
     },
     "execution_count": 107,
     "metadata": {},
     "output_type": "execute_result"
    }
   ],
   "source": [
    "pred.shape"
   ]
  },
  {
   "cell_type": "code",
   "execution_count": 25,
   "id": "e0391922",
   "metadata": {},
   "outputs": [],
   "source": [
    "points = points.data.numpy()\n",
    "points[:, :, :3] = rotate_point_cloud_z(points[:, :, :3])\n",
    "points = torch.Tensor(points)\n",
    "\n",
    "points = points.transpose(2, 1)\n",
    "norm = points[:, 3:, :]\n",
    "xyz = points[:, :3, :]"
   ]
  },
  {
   "cell_type": "code",
   "execution_count": 26,
   "id": "b21803f9",
   "metadata": {},
   "outputs": [
    {
     "data": {
      "text/plain": [
       "torch.Size([16, 3, 8])"
      ]
     },
     "execution_count": 26,
     "metadata": {},
     "output_type": "execute_result"
    }
   ],
   "source": [
    "xyz.shape"
   ]
  },
  {
   "cell_type": "code",
   "execution_count": 28,
   "id": "6a516518",
   "metadata": {},
   "outputs": [
    {
     "data": {
      "text/plain": [
       "tensor(0.3220, device='cuda:0', grad_fn=<NllLossBackward>)"
      ]
     },
     "execution_count": 28,
     "metadata": {},
     "output_type": "execute_result"
    }
   ],
   "source": [
    "loss"
   ]
  },
  {
   "cell_type": "code",
   "execution_count": 29,
   "id": "4bb47262",
   "metadata": {},
   "outputs": [
    {
     "data": {
      "text/plain": [
       "143.74223038554192"
      ]
     },
     "execution_count": 29,
     "metadata": {},
     "output_type": "execute_result"
    }
   ],
   "source": [
    "total_loss"
   ]
  },
  {
   "cell_type": "code",
   "execution_count": null,
   "id": "f34a8150",
   "metadata": {},
   "outputs": [],
   "source": []
  }
 ],
 "metadata": {
  "kernelspec": {
   "display_name": "Python [conda env:pc] *",
   "language": "python",
   "name": "conda-env-pc-py"
  },
  "language_info": {
   "codemirror_mode": {
    "name": "ipython",
    "version": 3
   },
   "file_extension": ".py",
   "mimetype": "text/x-python",
   "name": "python",
   "nbconvert_exporter": "python",
   "pygments_lexer": "ipython3",
   "version": "3.8.12"
  }
 },
 "nbformat": 4,
 "nbformat_minor": 5
}
